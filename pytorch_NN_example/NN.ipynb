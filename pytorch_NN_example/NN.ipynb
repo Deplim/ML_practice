{
 "cells": [
  {
   "cell_type": "markdown",
   "id": "244fb65d",
   "metadata": {},
   "source": [
    "## data set \n",
    "* columns : 23 (0 ~ 22)\n",
    "    * feature : 22, label : 1\n",
    "* rows : 4000"
   ]
  },
  {
   "cell_type": "markdown",
   "id": "2ae7bd7e",
   "metadata": {},
   "source": [
    "1. 데이터 로드\n",
    "2. feature selection\n",
    "3. 전처리\n",
    "4. pytorch import 및 데이터 자료형 변환 (numpy -> torch)\n",
    "5. 신경망 모듈 정의\n",
    "6. 학습\n",
    "7. 학습 코드 함수 버전"
   ]
  },
  {
   "cell_type": "code",
   "execution_count": 1,
   "id": "73546c91",
   "metadata": {},
   "outputs": [],
   "source": [
    "# fix seed\n",
    "\n",
    "split_seed = 1234"
   ]
  },
  {
   "cell_type": "markdown",
   "id": "9376e28d",
   "metadata": {},
   "source": [
    "<br>\n",
    "\n",
    "### 1. 데이터 로드"
   ]
  },
  {
   "cell_type": "code",
   "execution_count": 2,
   "id": "d49aca8e",
   "metadata": {},
   "outputs": [
    {
     "name": "stdout",
     "output_type": "stream",
     "text": [
      "   0     1   2   3   4   5   6   7   8   9   ...  12  13  14  15  16  17  18  \\\n",
      "0   3   529   5   4   4   3   1   0   5   1  ...   2   3   5   1  32   0   2   \n",
      "1   3  1846   3   3   3   4   2  10   3   1  ...   2   3   2   2  22  12   2   \n",
      "2   3  3240   5   4   5   4   1   0   4   1  ...   1   4   1   2  61   0   2   \n",
      "3   4   163   2   1   5   3   4   0   3   1  ...   2   5   5   5  52   7   1   \n",
      "4   3  2813   3   3   5   2   5   0   3   1  ...   2   3   5   4  24   0   1   \n",
      "\n",
      "   19  20  21  \n",
      "0   3   3   2  \n",
      "1   1   3   3  \n",
      "2   5   4   1  \n",
      "3   4   4   2  \n",
      "4   5   3   1  \n",
      "\n",
      "[5 rows x 22 columns]\n"
     ]
    }
   ],
   "source": [
    "# load data\n",
    "\n",
    "import numpy as np\n",
    "import pandas as pd\n",
    "import matplotlib.pyplot as plt\n",
    "from sklearn.model_selection import train_test_split\n",
    "\n",
    "df = pd.read_csv('train.csv', names = range(23))\n",
    "df_X = df.loc[:, df.columns != 22]\n",
    "df_y = df[22]\n",
    "\n",
    "print(df_X.head())"
   ]
  },
  {
   "cell_type": "markdown",
   "id": "59597d24",
   "metadata": {},
   "source": [
    "은닉층에 normalization 이 있긴 하지만 입력값에도 normalizing 해주면 학습이 좀더 안정적으로 된다."
   ]
  },
  {
   "cell_type": "code",
   "execution_count": 3,
   "id": "7dca47da",
   "metadata": {},
   "outputs": [
    {
     "name": "stdout",
     "output_type": "stream",
     "text": [
      "     0         1    2     3     4    5    6         7     8    9   ...   12  \\\n",
      "0  0.50  0.096002  1.0  0.75  0.75  0.6  0.2  0.000000  1.00  0.0  ...  1.0   \n",
      "1  0.50  0.363304  0.6  0.50  0.50  0.8  0.4  0.012594  0.50  0.0  ...  1.0   \n",
      "2  0.50  0.646235  1.0  0.75  1.00  0.8  0.2  0.000000  0.75  0.0  ...  0.0   \n",
      "3  0.75  0.021717  0.4  0.00  1.00  0.6  0.8  0.000000  0.50  0.0  ...  1.0   \n",
      "4  0.50  0.559570  0.6  0.50  1.00  0.4  1.0  0.000000  0.50  0.0  ...  1.0   \n",
      "\n",
      "     13   14   15        16        17   18   19    20   21  \n",
      "0  0.50  1.0  0.2  0.320513  0.000000  1.0  0.6  0.50  0.5  \n",
      "1  0.50  0.4  0.4  0.192308  0.015094  1.0  0.2  0.50  1.0  \n",
      "2  0.75  0.2  0.4  0.692308  0.000000  1.0  1.0  0.75  0.0  \n",
      "3  1.00  1.0  1.0  0.576923  0.008805  0.0  0.8  0.75  0.5  \n",
      "4  0.50  1.0  0.8  0.217949  0.000000  0.0  1.0  0.50  0.0  \n",
      "\n",
      "[5 rows x 22 columns]\n"
     ]
    }
   ],
   "source": [
    "# X data normalizing\n",
    "\n",
    "from sklearn.preprocessing import MinMaxScaler\n",
    "\n",
    "scaler = MinMaxScaler()\n",
    "X = df.loc[:, df.columns != 22]\n",
    "\n",
    "df_X = pd.DataFrame(scaler.fit_transform(X))\n",
    "df_y = df[22]\n",
    "\n",
    "print(df_X.head())"
   ]
  },
  {
   "cell_type": "markdown",
   "id": "b15b761c",
   "metadata": {},
   "source": [
    "<br>\n",
    "\n",
    "### 2. feature selection\n",
    "어차피 학습 과정에서 필요없는 feature 가 영향을 끼치지 않도록 파라미터들이 조정될 것 같기도 했고,  \n",
    "실제로 테스트했을 때도 Cost 에 큰 차이가 없었지만, filter method 사용 예시로 일단 넣어두었다."
   ]
  },
  {
   "cell_type": "code",
   "execution_count": 4,
   "id": "2c58281d",
   "metadata": {},
   "outputs": [
    {
     "name": "stdout",
     "output_type": "stream",
     "text": [
      "[5.49509555e+02 2.36520563e+02 1.11431480e+02 9.96283292e+01\n",
      " 5.38567399e+01 4.26981710e+01 4.14276727e+01 3.30914619e+01\n",
      " 2.89669352e+01 2.65725687e+01 3.28686087e+00 2.44688676e+00\n",
      " 1.27908353e+00 6.50249199e-01 5.13356106e-01 2.63595940e-01\n",
      " 2.10240909e-01 2.05763926e-01 1.52444234e-01 2.05977409e-02\n",
      " 1.42434471e-02 5.12844240e-03]\n",
      "[9, 21, 5, 20, 1, 2, 11, 3, 13, 19, 17, 7, 15, 10, 0, 4, 6, 12, 16, 8, 14, 18]\n"
     ]
    }
   ],
   "source": [
    "# feature selection : filter method\n",
    "\n",
    "from sklearn.feature_selection import SelectKBest\n",
    "from sklearn.feature_selection import chi2\n",
    "\n",
    "test = SelectKBest(score_func = chi2, k = df_X.shape[1])\n",
    "fit = test.fit(df_X, df_y)\n",
    "\n",
    "print(np.sort(fit.scores_)[::-1])\n",
    "\n",
    "f_order = np.argsort(-fit.scores_)\n",
    "sorted_columns = df.columns[f_order]\n",
    "\n",
    "print(sorted_columns.tolist())"
   ]
  },
  {
   "cell_type": "markdown",
   "id": "e446cecd",
   "metadata": {},
   "source": [
    "<br>\n",
    "\n",
    "### 3. 전처리"
   ]
  },
  {
   "cell_type": "code",
   "execution_count": 5,
   "id": "2ec8a166",
   "metadata": {},
   "outputs": [
    {
     "name": "stdout",
     "output_type": "stream",
     "text": [
      "[[0.         0.5        0.6        0.5        0.09600162 1.\n",
      "  0.25       0.75       0.5        0.6        0.         0.\n",
      "  0.2       ]\n",
      " [0.         1.         0.8        0.5        0.36330424 0.6\n",
      "  0.5        0.5        0.5        0.2        0.01509434 0.01259446\n",
      "  0.4       ]\n",
      " [0.         0.         0.8        0.75       0.64623503 1.\n",
      "  1.         0.75       0.75       1.         0.         0.\n",
      "  0.4       ]\n",
      " [0.         0.5        0.6        0.75       0.02171707 0.4\n",
      "  0.25       0.         1.         0.8        0.00880503 0.\n",
      "  1.        ]\n",
      " [0.         0.         0.4        0.5        0.55956972 0.6\n",
      "  0.75       0.5        0.5        1.         0.         0.\n",
      "  0.8       ]]\n"
     ]
    }
   ],
   "source": [
    "# preprocessing\n",
    "\n",
    "from sklearn.preprocessing import LabelEncoder\n",
    "\n",
    "# label 값 인코딩\n",
    "encoder = LabelEncoder()\n",
    "encoder.fit(df_y)\n",
    "df_y_encoded_nn = pd.DataFrame(encoder.transform(df_y))\n",
    "\n",
    "# feature selection 결과 적용\n",
    "fs_nn = sorted_columns[0:13]\n",
    "df_X_selected_nn = df_X[fs_nn]\n",
    "\n",
    "np_y = np.array(df_y_encoded_nn).reshape(4000, )\n",
    "np_X = np.array(df_X_selected_nn)\n",
    "\n",
    "print(np_X[:5])"
   ]
  },
  {
   "cell_type": "markdown",
   "id": "2b6c3a16",
   "metadata": {},
   "source": [
    "<br>\n",
    "\n",
    "### 4. pytorch import 및 데이터 자료형 변환 (numpy -> torch)"
   ]
  },
  {
   "cell_type": "code",
   "execution_count": 6,
   "id": "69e406be",
   "metadata": {
    "scrolled": true
   },
   "outputs": [
    {
     "name": "stdout",
     "output_type": "stream",
     "text": [
      "train data :  2800\n",
      "test data :  1200\n"
     ]
    }
   ],
   "source": [
    "# load pytorch\n",
    "\n",
    "import torch\n",
    "from torch import nn, optim\n",
    "from torch.utils.data import TensorDataset, DataLoader\n",
    "\n",
    "from tqdm import tqdm\n",
    "import matplotlib.pyplot as plt\n",
    "\n",
    "train_X_nn, test_X_nn, train_y_nn, test_y_nn = train_test_split(np_X, np_y, test_size = 0.3, random_state = split_seed)\n",
    "\n",
    "train_X_nn = torch.tensor(train_X_nn, dtype = torch.float32)\n",
    "train_y_nn = torch.tensor(train_y_nn, dtype = torch.float32)\n",
    "test_X_nn = torch.tensor(test_X_nn, dtype = torch.float32)\n",
    "test_y_nn = torch.tensor(test_y_nn, dtype = torch.float32)\n",
    "\n",
    "'''\n",
    "from sklearn.datasets import load_iris\n",
    "iris = load_iris()\n",
    "X=iris.data[:100]\n",
    "y = iris.target[:100]\n",
    "\n",
    "X = torch.tensor(X, dtype = torch.float32)\n",
    "y = torch.tensor(y, dtype = torch.float32)\n",
    "\n",
    "'''\n",
    "\n",
    "print(\"train data : \", train_X_nn.shape[0])\n",
    "print(\"test data : \", test_X_nn.shape[0])"
   ]
  },
  {
   "cell_type": "markdown",
   "id": "4b0170a0",
   "metadata": {},
   "source": [
    "<br>\n",
    "\n",
    "### 5. 신경망 모듈 정의\n",
    "신경망은 원래 nn.Sequential 만 사용해서 짜거나, 단층 신경망인 경우 레이어 하나만 사용해도 학습은 할 수 있지만\n",
    "모듈화를 해서 사용하는 것이 편하다."
   ]
  },
  {
   "cell_type": "code",
   "execution_count": 7,
   "id": "b0898068",
   "metadata": {},
   "outputs": [],
   "source": [
    "# Neural Network (module)\n",
    "\n",
    "class CustomNet(nn.Module):\n",
    "    def __init__(self):\n",
    "        super(CustomNet, self).__init__()\n",
    "\n",
    "        self.custom_linear = nn.Sequential(\n",
    "            nn.Linear(13, 16),\n",
    "            nn.ReLU(),\n",
    "            nn.BatchNorm1d(16),\n",
    "            nn.Dropout(0.25),\n",
    "\n",
    "            nn.Linear(16, 16),\n",
    "            nn.ReLU(),\n",
    "            nn.BatchNorm1d(16),\n",
    "            nn.Dropout(0.25),\n",
    "\n",
    "            nn.Linear(16, 8),\n",
    "            nn.ReLU(),\n",
    "            nn.BatchNorm1d(8),\n",
    "            nn.Dropout(0.125),\n",
    "\n",
    "            nn.Linear(8, 4),\n",
    "            nn.ReLU(),\n",
    "            nn.BatchNorm1d(4),\n",
    "\n",
    "            nn.Linear(4, 1)\n",
    "        )\n",
    "        \n",
    "    def forward(self, x):\n",
    "        x = self.custom_linear(x)\n",
    "        return x"
   ]
  },
  {
   "cell_type": "markdown",
   "id": "3999dd40",
   "metadata": {},
   "source": [
    "<br>\n",
    "\n",
    "### 6. 학습"
   ]
  },
  {
   "cell_type": "code",
   "execution_count": 9,
   "id": "bc8225e9",
   "metadata": {},
   "outputs": [
    {
     "name": "stderr",
     "output_type": "stream",
     "text": [
      "100%|████████████████████████████████████████████████████████████████████████████| 10000/10000 [02:42<00:00, 61.72it/s]\n"
     ]
    },
    {
     "name": "stdout",
     "output_type": "stream",
     "text": [
      "\n",
      " 0.0001 0.1 10000 \n",
      "\n",
      "losses   :  0.3260039687156677\n",
      "accuracy :  0.9007142782211304\n",
      "test losses   :  0.35765278339385986\n",
      "test accuracy :  0.8666666746139526\n"
     ]
    },
    {
     "data": {
      "image/png": "[encoded data removed]",
      "text/plain": [
       "<Figure size 432x288 with 1 Axes>"
      ]
     },
     "metadata": {
      "needs_background": "light"
     },
     "output_type": "display_data"
    }
   ],
   "source": [
    "net = CustomNet()\n",
    "\n",
    "device = \"cuda\" if torch.cuda.is_available() else \"cpu\"\n",
    "net = net.to(device)\n",
    "\n",
    "train_X_nn = train_X_nn.to(device)\n",
    "train_y_nn = train_y_nn.to(device)\n",
    "test_X_nn = test_X_nn.to(device)\n",
    "test_y_nn = test_y_nn.to(device)\n",
    "\n",
    "loss_fn = nn.BCEWithLogitsLoss().cuda()\n",
    "lr = 1e-4\n",
    "weight_decay = 0.1\n",
    "optimizer = optim.Adam(net.parameters(), lr = lr, weight_decay = weight_decay)\n",
    "epoc_num = 10000\n",
    "\n",
    "# learning record\n",
    "losses = []\n",
    "acc_list = []\n",
    "test_losses = []\n",
    "test_acc_list = []\n",
    "\n",
    "for epoc in tqdm(range(epoc_num)):\n",
    "    # train data set\n",
    "    net.train()\n",
    "    \n",
    "    y_pred = net(train_X_nn)\n",
    "    loss = loss_fn(y_pred.view_as(train_y_nn), train_y_nn)\n",
    "    \n",
    "    optimizer.zero_grad()\n",
    "    loss.backward()\n",
    "    optimizer.step()\n",
    "    \n",
    "    losses.append(loss.item())\n",
    "    pred_round =  torch.round(torch.sigmoid(y_pred.view_as(train_y_nn)))\n",
    "    acc_list.append(torch.mean((train_y_nn == pred_round).float()).item())\n",
    "    \n",
    "    # test_data set\n",
    "    net.eval()\n",
    "    \n",
    "    with torch.no_grad():\n",
    "        test_y_pred = net(test_X_nn)\n",
    "        test_loss = loss_fn(test_y_pred.view_as(test_y_nn), test_y_nn)\n",
    "    \n",
    "    test_losses.append(test_loss.item())\n",
    "    test_pred_round =  torch.round(torch.sigmoid(test_y_pred.view_as(test_y_nn)))\n",
    "    test_acc_list.append(torch.mean((test_y_nn == test_pred_round).float()).item())\n",
    "\n",
    "print(\"\\n\", lr, weight_decay, epoc_num, \"\\n\")\n",
    "    \n",
    "print(\"losses   : \", losses[-1])\n",
    "print(\"accuracy : \", acc_list[-1])\n",
    "\n",
    "print(\"test losses   : \", test_losses[-1])\n",
    "print(\"test accuracy : \", test_acc_list[-1])\n",
    "\n",
    "plt.plot(list(range(epoc_num)), losses, list(range(epoc_num)), test_losses)\n",
    "plt.show()"
   ]
  },
  {
   "cell_type": "markdown",
   "id": "50093f41",
   "metadata": {},
   "source": [
    "학습시마다 파라미터 초기화를 하지 않으면, 다시 학습코드를 돌릴 때 이전의 상태에서부터 시작하게 된다. 매번 신경망 모델을 새로 생성하게끔 하면 (net = CustomNet()) 문제가 없지만\n",
    "파라미터를 직접 초기화 하는 방법도 일단 적어두었다.\n",
    "관련 참고자료\n",
    "https://jh-bk.tistory.com/10\n",
    "https://stackoverflow.com/questions/49433936/how-to-initialize-weights-in-pytorch\n",
    "https://github.com/pytorch/pytorch/blob/master/torch/nn/modules/linear.py"
   ]
  },
  {
   "cell_type": "code",
   "execution_count": 10,
   "id": "04e71afa",
   "metadata": {},
   "outputs": [
    {
     "name": "stderr",
     "output_type": "stream",
     "text": [
      "C:\\Users\\Administrator\\AppData\\Roaming\\Python\\Python37\\site-packages\\ipykernel_launcher.py:3: UserWarning: nn.init.xavier_uniform is now deprecated in favor of nn.init.xavier_uniform_.\n",
      "  This is separate from the ipykernel package so we can avoid doing imports until\n"
     ]
    },
    {
     "data": {
      "text/plain": [
       "CustomNet(\n",
       "  (custom_linear): Sequential(\n",
       "    (0): Linear(in_features=13, out_features=16, bias=True)\n",
       "    (1): ReLU()\n",
       "    (2): BatchNorm1d(16, eps=1e-05, momentum=0.1, affine=True, track_running_stats=True)\n",
       "    (3): Dropout(p=0.25)\n",
       "    (4): Linear(in_features=16, out_features=16, bias=True)\n",
       "    (5): ReLU()\n",
       "    (6): BatchNorm1d(16, eps=1e-05, momentum=0.1, affine=True, track_running_stats=True)\n",
       "    (7): Dropout(p=0.25)\n",
       "    (8): Linear(in_features=16, out_features=8, bias=True)\n",
       "    (9): ReLU()\n",
       "    (10): BatchNorm1d(8, eps=1e-05, momentum=0.1, affine=True, track_running_stats=True)\n",
       "    (11): Dropout(p=0.125)\n",
       "    (12): Linear(in_features=8, out_features=4, bias=True)\n",
       "    (13): ReLU()\n",
       "    (14): BatchNorm1d(4, eps=1e-05, momentum=0.1, affine=True, track_running_stats=True)\n",
       "    (15): Linear(in_features=4, out_features=1, bias=True)\n",
       "  )\n",
       ")"
      ]
     },
     "execution_count": 10,
     "metadata": {},
     "output_type": "execute_result"
    }
   ],
   "source": [
    "def init_weights(m):\n",
    "    if isinstance(m, nn.Linear):\n",
    "        torch.nn.init.xavier_uniform(m.weight)\n",
    "        m.bias.data.fill_(0.01)\n",
    "\n",
    "net.apply(init_weights)"
   ]
  },
  {
   "cell_type": "markdown",
   "id": "15cf7961",
   "metadata": {},
   "source": [
    "<br>\n",
    "\n",
    "### 7. 학습 코드 함수 버전\n",
    "튜닝을 편하게 하고 기록이 노트북 상에 남게 하려면, 학습코드를 함수형태로 만들어 놓는 게 좋다."
   ]
  },
  {
   "cell_type": "code",
   "execution_count": 8,
   "id": "fb615974",
   "metadata": {},
   "outputs": [],
   "source": [
    "from tqdm import tqdm\n",
    "\n",
    "def train_net(net, train_loader, test_loader, \n",
    "              optimizer,\n",
    "              loss_fn=nn.CrossEntropyLoss(),\n",
    "              n_iter = 10, device=\"cpu\"):\n",
    "    \n",
    "    if not torch.cuda.is_available():\n",
    "        deivce = \"cpu\"\n",
    "        \n",
    "    print(\"deivce : \", device)\n",
    "    net.to(device)\n",
    "    \n",
    "    # train\n",
    "    itr = []\n",
    "    train_losses = []\n",
    "    train_acc = []\n",
    "    test_losses = []\n",
    "    test_acc = []\n",
    "    \n",
    "    for epoch in tqdm(range(n_iter)):\n",
    "        # train data set\n",
    "        net.train()\n",
    "        trn = 0\n",
    "        trn_loss = 0.0\n",
    "        trn_acc = 0.0\n",
    "        \n",
    "        for i , (xx, yy) in enumerate(train_loader):\n",
    "            trn += len(xx)\n",
    "            xx = xx.to(device)\n",
    "            yy = yy.to(device)\n",
    "\n",
    "            h = net(xx)\n",
    "            loss = loss_fn(h.view_as(yy), yy)\n",
    "            \n",
    "            optimizer.zero_grad()\n",
    "            loss.backward()\n",
    "            optimizer.step()\n",
    "            \n",
    "            loss_item = loss.item()\n",
    "            itr.append(loss_item)\n",
    "            trn_loss += loss_item\n",
    "            \n",
    "            y_pred =  torch.round(torch.sigmoid(h.view_as(yy)))\n",
    "            trn_acc += (yy == y_pred).float().sum().item()\n",
    "            # 여기서는 accuaracy 코드가 특정 loss 함수에만 맞도록 작성했는데, 이 부분을 입력값에 따라 다르게 처리되도록 만들어보면 좋을듯.\n",
    "        \n",
    "        train_losses.append(trn_loss/(i+1))\n",
    "        train_acc.append(trn_acc/trn)\n",
    "        \n",
    "\n",
    "        # test_data set\n",
    "        net.eval()\n",
    "        ten = 0\n",
    "        ten_loss = 0.0\n",
    "        ten_acc = 0.0\n",
    "                           \n",
    "        for i , (xx, yy) in enumerate(test_loader):\n",
    "            ten += len(xx)\n",
    "            xx = xx.to(device)\n",
    "            yy = yy.to(device)\n",
    "            \n",
    "            with torch.no_grad():            \n",
    "                h = net(xx)\n",
    "                loss = loss_fn(h.view_as(yy), yy)\n",
    "\n",
    "            ten_loss += loss.item()\n",
    "                           \n",
    "            y_pred =  torch.round(torch.sigmoid(h.view_as(yy)))\n",
    "            ten_acc += (yy == y_pred).float().sum().item()\n",
    "\n",
    "        test_losses.append(ten_loss/(i+1))\n",
    "        test_acc.append(ten_acc/ten)\n",
    "\n",
    "    return itr, train_losses, train_acc, test_losses, test_acc"
   ]
  },
  {
   "cell_type": "code",
   "execution_count": 9,
   "id": "180790a2",
   "metadata": {},
   "outputs": [],
   "source": [
    "train_set = TensorDataset(train_X_nn, train_y_nn)\n",
    "test_set = TensorDataset(test_X_nn, test_y_nn)"
   ]
  },
  {
   "cell_type": "markdown",
   "id": "974622d2",
   "metadata": {},
   "source": [
    "여기서 사용한 데이터 셋은 feature 와 데이터 갯수가 많은 편이 아니다보니 (13, 2800)  \n",
    "한꺼번에 돌리는데 문제가 없어서 batch_size 를 아예 데이터 셋 크기에 맞게 입력했지만  \n",
    "원래는 일반적으로 2의 지수승 (128, 256 ...) 을 사용함 "
   ]
  },
  {
   "cell_type": "code",
   "execution_count": 11,
   "id": "b459d937",
   "metadata": {},
   "outputs": [
    {
     "name": "stdout",
     "output_type": "stream",
     "text": [
      "deivce :  cuda\n"
     ]
    },
    {
     "name": "stderr",
     "output_type": "stream",
     "text": [
      "100%|████████████████████████████████████████████████████████████████████████████| 10000/10000 [09:11<00:00, 18.13it/s]\n"
     ]
    },
    {
     "name": "stdout",
     "output_type": "stream",
     "text": [
      "iteration - cost graph\n"
     ]
    },
    {
     "data": {
      "image/png": "[encoded data removed]",
      "text/plain": [
       "<Figure size 432x288 with 1 Axes>"
      ]
     },
     "metadata": {
      "needs_background": "light"
     },
     "output_type": "display_data"
    }
   ],
   "source": [
    "net = CustomNet()\n",
    "\n",
    "batch_size = 2800\n",
    "train_loader = DataLoader(train_set, batch_size = batch_size, shuffle = True)\n",
    "test_loader = DataLoader(test_set, batch_size = batch_size, shuffle = True)\n",
    "\n",
    "lr = 1e-4\n",
    "weight_decay = 0.1\n",
    "optimizer = optim.Adam(net.parameters(), lr = lr, weight_decay = weight_decay)\n",
    "loss_fn = nn.BCEWithLogitsLoss()\n",
    "\n",
    "itr, train_losses, train_acc, test_losses, test_acc = train_net(net, train_loader, test_loader, optimizer, loss_fn, n_iter =10000, device = 'cuda')\n",
    "\n",
    "print(\"iteration - cost graph\")\n",
    "plt.plot(itr)\n",
    "plt.grid()\n",
    "plt.show()"
   ]
  },
  {
   "cell_type": "code",
   "execution_count": 14,
   "id": "35481e7e",
   "metadata": {},
   "outputs": [
    {
     "name": "stdout",
     "output_type": "stream",
     "text": [
      "losses   :  0.321379691362381\n",
      "accuracy :  0.8921428571428571\n",
      "test losses   :  0.35336828231811523\n",
      "test accuracy :  0.8758333333333334\n"
     ]
    },
    {
     "data": {
      "image/png": "[encoded data removed]",
      "text/plain": [
       "<Figure size 432x288 with 1 Axes>"
      ]
     },
     "metadata": {
      "needs_background": "light"
     },
     "output_type": "display_data"
    }
   ],
   "source": [
    "print(\"losses   : \", train_losses[-1])\n",
    "print(\"accuracy : \", train_acc[-1])\n",
    "\n",
    "print(\"test losses   : \", test_losses[-1])\n",
    "print(\"test accuracy : \", test_acc[-1])\n",
    "\n",
    "plt.plot(list(range(len(train_losses))), train_losses, list(range(len(test_losses))), test_losses)\n",
    "plt.show()"
   ]
  }
 ],
 "metadata": {
  "kernelspec": {
   "display_name": "Python 3 (ipykernel)",
   "language": "python",
   "name": "python3"
  },
  "language_info": {
   "codemirror_mode": {
    "name": "ipython",
    "version": 3
   },
   "file_extension": ".py",
   "mimetype": "text/x-python",
   "name": "python",
   "nbconvert_exporter": "python",
   "pygments_lexer": "ipython3",
   "version": "3.7.1"
  }
 },
 "nbformat": 4,
 "nbformat_minor": 5
}
