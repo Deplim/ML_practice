{
 "cells": [
  {
   "cell_type": "code",
   "execution_count": 1,
   "id": "855098fe",
   "metadata": {},
   "outputs": [],
   "source": [
    "# fix seed\n",
    "\n",
    "split_seed = 1234"
   ]
  },
  {
   "cell_type": "code",
   "execution_count": 2,
   "id": "7cdfa12d",
   "metadata": {},
   "outputs": [
    {
     "name": "stdout",
     "output_type": "stream",
     "text": [
      "   0     1   2   3   4   5   6   7   8   9   ...  13  14  15  16  17  18  19  \\\n",
      "0   3   529   5   4   4   3   1   0   5   1  ...   3   5   1  32   0   2   3   \n",
      "1   3  1846   3   3   3   4   2  10   3   1  ...   3   2   2  22  12   2   1   \n",
      "2   3  3240   5   4   5   4   1   0   4   1  ...   4   1   2  61   0   2   5   \n",
      "3   4   163   2   1   5   3   4   0   3   1  ...   5   5   5  52   7   1   4   \n",
      "4   3  2813   3   3   5   2   5   0   3   1  ...   3   5   4  24   0   1   5   \n",
      "\n",
      "   20  21  22  \n",
      "0   3   2   1  \n",
      "1   3   3   1  \n",
      "2   4   1   2  \n",
      "3   4   2   1  \n",
      "4   3   1   1  \n",
      "\n",
      "[5 rows x 23 columns]\n"
     ]
    }
   ],
   "source": [
    "# load data\n",
    "\n",
    "import numpy as np\n",
    "import pandas as pd\n",
    "import matplotlib.pyplot as plt\n",
    "from sklearn.model_selection import train_test_split\n",
    "\n",
    "df = pd.read_csv('train.csv', names = range(23))\n",
    "print(df.head())"
   ]
  },
  {
   "cell_type": "code",
   "execution_count": 3,
   "id": "989b82d0",
   "metadata": {},
   "outputs": [
    {
     "name": "stdout",
     "output_type": "stream",
     "text": [
      "     0         1    2     3     4    5    6         7     8    9   ...   12  \\\n",
      "0  0.50  0.096002  1.0  0.75  0.75  0.6  0.2  0.000000  1.00  0.0  ...  1.0   \n",
      "1  0.50  0.363304  0.6  0.50  0.50  0.8  0.4  0.012594  0.50  0.0  ...  1.0   \n",
      "2  0.50  0.646235  1.0  0.75  1.00  0.8  0.2  0.000000  0.75  0.0  ...  0.0   \n",
      "3  0.75  0.021717  0.4  0.00  1.00  0.6  0.8  0.000000  0.50  0.0  ...  1.0   \n",
      "4  0.50  0.559570  0.6  0.50  1.00  0.4  1.0  0.000000  0.50  0.0  ...  1.0   \n",
      "\n",
      "     13   14   15        16        17   18   19    20   21  \n",
      "0  0.50  1.0  0.2  0.320513  0.000000  1.0  0.6  0.50  0.5  \n",
      "1  0.50  0.4  0.4  0.192308  0.015094  1.0  0.2  0.50  1.0  \n",
      "2  0.75  0.2  0.4  0.692308  0.000000  1.0  1.0  0.75  0.0  \n",
      "3  1.00  1.0  1.0  0.576923  0.008805  0.0  0.8  0.75  0.5  \n",
      "4  0.50  1.0  0.8  0.217949  0.000000  0.0  1.0  0.50  0.0  \n",
      "\n",
      "[5 rows x 22 columns]\n"
     ]
    }
   ],
   "source": [
    "# X data normalizing\n",
    "\n",
    "from sklearn.preprocessing import MinMaxScaler\n",
    "\n",
    "scaler = MinMaxScaler()\n",
    "X = df.loc[:, df.columns != 22]\n",
    "\n",
    "df_X = pd.DataFrame(scaler.fit_transform(X))\n",
    "print(df_X.head())\n",
    "df_y = df[22]"
   ]
  },
  {
   "cell_type": "code",
   "execution_count": 4,
   "id": "6ec5f032",
   "metadata": {},
   "outputs": [
    {
     "name": "stdout",
     "output_type": "stream",
     "text": [
      "[5.49509555e+02 2.36520563e+02 1.11431480e+02 9.96283292e+01\n",
      " 5.38567399e+01 4.26981710e+01 4.14276727e+01 3.30914619e+01\n",
      " 2.89669352e+01 2.65725687e+01 3.28686087e+00 2.44688676e+00\n",
      " 1.27908353e+00 6.50249199e-01 5.13356106e-01 2.63595940e-01\n",
      " 2.10240909e-01 2.05763926e-01 1.52444234e-01 2.05977409e-02\n",
      " 1.42434471e-02 5.12844240e-03]\n",
      "[9, 21, 5, 20, 1, 2, 11, 3, 13, 19, 17, 7, 15, 10, 0, 4, 6, 12, 16, 8, 14, 18]\n"
     ]
    }
   ],
   "source": [
    "# feature selection : filter method\n",
    "\n",
    "from sklearn.feature_selection import SelectKBest\n",
    "from sklearn.feature_selection import chi2\n",
    "\n",
    "test = SelectKBest(score_func = chi2, k = df_X.shape[1])\n",
    "fit = test.fit(df_X, df_y)\n",
    "\n",
    "print(np.sort(fit.scores_)[::-1])\n",
    "\n",
    "f_order = np.argsort(-fit.scores_)\n",
    "sorted_columns = df.columns[f_order]\n",
    "\n",
    "print(sorted_columns.tolist())"
   ]
  },
  {
   "cell_type": "code",
   "execution_count": 5,
   "id": "8d966e29",
   "metadata": {},
   "outputs": [],
   "source": [
    "# preprocessing\n",
    "\n",
    "from sklearn.preprocessing import LabelEncoder\n",
    "\n",
    "encoder = LabelEncoder()\n",
    "encoder.fit(df_y)\n",
    "df_y_encoded_nn = pd.DataFrame(encoder.transform(df_y))\n",
    "\n",
    "fs_nn = sorted_columns[0:13]\n",
    "df_X_selected_nn = df_X[fs_nn]\n",
    "\n",
    "np_y = np.array(df_y_encoded_nn).reshape(4000, )\n",
    "np_X = np.array(df_X_selected_nn)"
   ]
  },
  {
   "cell_type": "code",
   "execution_count": 6,
   "id": "0cdf7554",
   "metadata": {},
   "outputs": [
    {
     "name": "stdout",
     "output_type": "stream",
     "text": [
      "train data :  2800\n",
      "test data :  1200\n"
     ]
    }
   ],
   "source": [
    "# load pytorch\n",
    "\n",
    "import torch\n",
    "from torch import nn, optim\n",
    "\n",
    "from tqdm import tqdm\n",
    "import matplotlib.pyplot as plt\n",
    "\n",
    "train_X_nn, test_X_nn, train_y_nn, test_y_nn = train_test_split(np_X, np_y, test_size = 0.3, random_state = split_seed)\n",
    "\n",
    "train_X_nn = torch.tensor(train_X_nn, dtype = torch.float32)\n",
    "train_y_nn = torch.tensor(train_y_nn, dtype = torch.float32)\n",
    "test_X_nn = torch.tensor(test_X_nn, dtype = torch.float32)\n",
    "test_y_nn = torch.tensor(test_y_nn, dtype = torch.float32)\n",
    "\n",
    "'''\n",
    "from sklearn.datasets import load_iris\n",
    "iris = load_iris()\n",
    "X=iris.data[:100]\n",
    "y = iris.target[:100]\n",
    "\n",
    "X = torch.tensor(X, dtype = torch.float32)\n",
    "y = torch.tensor(y, dtype = torch.float32)\n",
    "\n",
    "'''\n",
    "\n",
    "print(\"train data : \", train_X_nn.shape[0])\n",
    "print(\"test data : \", test_X_nn.shape[0])"
   ]
  },
  {
   "cell_type": "code",
   "execution_count": 7,
   "id": "8ab68015",
   "metadata": {},
   "outputs": [],
   "source": [
    "# Neural Network\n",
    "\n",
    "net = nn.Sequential(\n",
    "    nn.Linear(13, 32),\n",
    "    nn.ReLU(),\n",
    "    nn.BatchNorm1d(32),\n",
    "    nn.Dropout(0.125),\n",
    "    \n",
    "    nn.Linear(32, 32),\n",
    "    nn.ReLU(),\n",
    "    nn.BatchNorm1d(32),\n",
    "    nn.Dropout(0.125),\n",
    "    \n",
    "    nn.Linear(32, 16),\n",
    "    nn.ReLU(),\n",
    "    nn.BatchNorm1d(16),\n",
    "    nn.Dropout(0.25),\n",
    "    \n",
    "    nn.Linear(16, 8),\n",
    "    nn.ReLU(),\n",
    "    nn.BatchNorm1d(8),\n",
    "    nn.Dropout(0.5),\n",
    "    \n",
    "    nn.Linear(8, 4),\n",
    "    nn.ReLU(),\n",
    "    nn.BatchNorm1d(4),\n",
    "    nn.Linear(4, 1)\n",
    "    )"
   ]
  },
  {
   "cell_type": "code",
   "execution_count": 8,
   "id": "5f66c8f0",
   "metadata": {},
   "outputs": [
    {
     "name": "stderr",
     "output_type": "stream",
     "text": [
      "100%|████████████████████████████████████████████████████████████████████████████| 10000/10000 [03:13<00:00, 51.63it/s]\n"
     ]
    },
    {
     "name": "stdout",
     "output_type": "stream",
     "text": [
      "\n",
      " 0.0001 0.1 10000 \n",
      "\n",
      "losses   :  0.23634673655033112\n",
      "accuracy :  0.9421428442001343\n",
      "test losses   :  0.357587605714798\n",
      "test accuracy :  0.8666666746139526\n"
     ]
    },
    {
     "data": {
      "image/png": "[encoded data removed]",
      "text/plain": [
       "<Figure size 432x288 with 1 Axes>"
      ]
     },
     "metadata": {
      "needs_background": "light"
     },
     "output_type": "display_data"
    }
   ],
   "source": [
    "device = \"cuda\" if torch.cuda.is_available() else \"cpu\"\n",
    "net = net.to(device)\n",
    "train_X_nn = train_X_nn.to(device)\n",
    "train_y_nn = train_y_nn.to(device)\n",
    "test_X_nn = test_X_nn.to(device)\n",
    "test_y_nn = test_y_nn.to(device)\n",
    "\n",
    "loss_fn = nn.BCEWithLogitsLoss().cuda()\n",
    "lr = 1e-4\n",
    "weight_decay = 0.1\n",
    "optimizer = optim.Adam(net.parameters(), lr = lr, weight_decay = weight_decay)\n",
    "\n",
    "# train\n",
    "losses = []\n",
    "acc_list = []\n",
    "test_losses = []\n",
    "test_acc_list = []\n",
    "epoc_num = 10000\n",
    "\n",
    "for epoc in tqdm(range(epoc_num)):\n",
    "    # train data set\n",
    "    net.train()\n",
    "    \n",
    "    y_pred = net(train_X_nn)\n",
    "    loss = loss_fn(y_pred.view_as(train_y_nn), train_y_nn)\n",
    "    \n",
    "    optimizer.zero_grad()\n",
    "    loss.backward()\n",
    "    optimizer.step()\n",
    "    \n",
    "    losses.append(loss.item())\n",
    "    pred_round =  torch.round(torch.sigmoid(y_pred.view_as(train_y_nn)))\n",
    "    acc_list.append(torch.mean((train_y_nn == pred_round).float()).item())\n",
    "    \n",
    "    # test_data set\n",
    "    net.eval()\n",
    "    \n",
    "    with torch.no_grad():\n",
    "        test_y_pred = net(test_X_nn)\n",
    "        test_loss = loss_fn(test_y_pred.view_as(test_y_nn), test_y_nn)\n",
    "    \n",
    "    test_losses.append(test_loss.item())\n",
    "    test_pred_round =  torch.round(torch.sigmoid(test_y_pred.view_as(test_y_nn)))\n",
    "    test_acc_list.append(torch.mean((test_y_nn == test_pred_round).float()).item())\n",
    "\n",
    "print(\"\\n\", lr, weight_decay, epoc_num, \"\\n\")\n",
    "    \n",
    "print(\"losses   : \", losses[-1])\n",
    "print(\"accuracy : \", acc_list[-1])\n",
    "\n",
    "print(\"test losses   : \", test_losses[-1])\n",
    "print(\"test accuracy : \", test_acc_list[-1])\n",
    "\n",
    "plt.plot(list(range(epoc_num)), losses, list(range(epoc_num)), test_losses)\n",
    "plt.show()"
   ]
  }
 ],
 "metadata": {
  "kernelspec": {
   "display_name": "Python 3 (ipykernel)",
   "language": "python",
   "name": "python3"
  },
  "language_info": {
   "codemirror_mode": {
    "name": "ipython",
    "version": 3
   },
   "file_extension": ".py",
   "mimetype": "text/x-python",
   "name": "python",
   "nbconvert_exporter": "python",
   "pygments_lexer": "ipython3",
   "version": "3.7.1"
  }
 },
 "nbformat": 4,
 "nbformat_minor": 5
}
