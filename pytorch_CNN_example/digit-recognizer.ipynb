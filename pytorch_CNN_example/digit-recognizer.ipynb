{
 "cells": [
  {
   "cell_type": "code",
   "execution_count": 22,
   "metadata": {},
   "outputs": [],
   "source": [
    "# fix seed\n",
    "\n",
    "split_seed = 1234"
   ]
  },
  {
   "cell_type": "code",
   "execution_count": 23,
   "metadata": {
    "_cell_guid": "b1076dfc-b9ad-4769-8c92-a6c4dae69d19",
    "_uuid": "8f2839f25d086af736a60e9eeb907d3b93b6e0e5",
    "execution": {
     "iopub.execute_input": "2021-11-17T12:58:42.415557Z",
     "iopub.status.busy": "2021-11-17T12:58:42.414854Z",
     "iopub.status.idle": "2021-11-17T12:58:48.264107Z",
     "shell.execute_reply": "2021-11-17T12:58:48.263114Z",
     "shell.execute_reply.started": "2021-11-17T12:58:42.415447Z"
    }
   },
   "outputs": [
    {
     "name": "stdout",
     "output_type": "stream",
     "text": [
      "   label  pixel0  pixel1  pixel2  pixel3  pixel4  pixel5  pixel6  pixel7  \\\n",
      "0      1       0       0       0       0       0       0       0       0   \n",
      "1      0       0       0       0       0       0       0       0       0   \n",
      "2      1       0       0       0       0       0       0       0       0   \n",
      "3      4       0       0       0       0       0       0       0       0   \n",
      "4      0       0       0       0       0       0       0       0       0   \n",
      "\n",
      "   pixel8  ...  pixel774  pixel775  pixel776  pixel777  pixel778  pixel779  \\\n",
      "0       0  ...         0         0         0         0         0         0   \n",
      "1       0  ...         0         0         0         0         0         0   \n",
      "2       0  ...         0         0         0         0         0         0   \n",
      "3       0  ...         0         0         0         0         0         0   \n",
      "4       0  ...         0         0         0         0         0         0   \n",
      "\n",
      "   pixel780  pixel781  pixel782  pixel783  \n",
      "0         0         0         0         0  \n",
      "1         0         0         0         0  \n",
      "2         0         0         0         0  \n",
      "3         0         0         0         0  \n",
      "4         0         0         0         0  \n",
      "\n",
      "[5 rows x 785 columns]\n",
      "data num: 42000\n"
     ]
    }
   ],
   "source": [
    "import numpy as np\n",
    "import pandas as pd\n",
    "import matplotlib.pyplot as plt\n",
    "from sklearn.model_selection import train_test_split\n",
    "\n",
    "df = pd.read_csv('train.csv') \n",
    "print(df.head())\n",
    "print(\"data num:\", len(df))\n",
    "#print(df.loc[:, ['label', 'pixel0'])\n",
    "df_sb = pd.read_csv('test.csv')"
   ]
  },
  {
   "cell_type": "code",
   "execution_count": 24,
   "metadata": {},
   "outputs": [
    {
     "data": {
      "image/png": "[encoded data removed]",
      "text/plain": [
       "<Figure size 432x288 with 1 Axes>"
      ]
     },
     "metadata": {
      "needs_background": "light"
     },
     "output_type": "display_data"
    }
   ],
   "source": [
    "from sklearn.preprocessing import MinMaxScaler\n",
    "\n",
    "df_X = df.loc[:, df.columns!='label']\n",
    "df_y = df['label']\n",
    "\n",
    "np_X = np.array(df_X).reshape(-1, 1, 28, 28)\n",
    "np_y = np.array(df_y).reshape(-1, )\n",
    "\n",
    "plt.imshow(np_X[0][0])\n",
    "plt.show()\n",
    "\n",
    "#from PIL import Image\n",
    "#im = Image.fromarray(np_X[0].astype(np.uint8))\n",
    "#im.save(\"sample_image.png\")"
   ]
  },
  {
   "cell_type": "code",
   "execution_count": 25,
   "metadata": {},
   "outputs": [
    {
     "name": "stdout",
     "output_type": "stream",
     "text": [
      "torch.Size([37800, 1, 28, 28])\n",
      "torch.Size([37800])\n"
     ]
    }
   ],
   "source": [
    "import torch\n",
    "from torch import nn, optim\n",
    "from torch.utils.data import TensorDataset, DataLoader\n",
    "\n",
    "train_X, test_X, train_y, test_y = train_test_split(np_X, np_y, test_size = 0.1, random_state = split_seed)\n",
    "\n",
    "train_X = torch.tensor(train_X, dtype = torch.float32)\n",
    "train_y = torch.tensor(train_y, dtype = torch.int64)\n",
    "test_X = torch.tensor(test_X, dtype = torch.float32)\n",
    "test_y = torch.tensor(test_y, dtype = torch.int64)\n",
    "\n",
    "print(train_X.shape)\n",
    "print(train_y.shape)"
   ]
  },
  {
   "cell_type": "code",
   "execution_count": 26,
   "metadata": {},
   "outputs": [],
   "source": [
    "train_set = TensorDataset(train_X, train_y)\n",
    "test_set = TensorDataset(test_X, test_y)"
   ]
  },
  {
   "cell_type": "code",
   "execution_count": 27,
   "metadata": {},
   "outputs": [],
   "source": [
    "# FlattenLayer(nn.Module):\n",
    "\n",
    "class FlattenLayer(nn.Module):\n",
    "    def forward(self, x):\n",
    "        sizes = x.size()\n",
    "        return x.view(sizes[0], -1)"
   ]
  },
  {
   "cell_type": "code",
   "execution_count": 28,
   "metadata": {},
   "outputs": [
    {
     "name": "stdout",
     "output_type": "stream",
     "text": [
      "conv_output_size :  1024\n"
     ]
    }
   ],
   "source": [
    "conv_net = nn.Sequential(\n",
    "    nn.Conv2d(1, 32, 5),\n",
    "    nn.MaxPool2d(2),\n",
    "    nn.ReLU(),\n",
    "    nn.BatchNorm2d(32),\n",
    "    nn.Dropout2d(0.25),\n",
    "    nn.Conv2d(32, 64, 5),\n",
    "    nn.MaxPool2d(2),\n",
    "    nn.ReLU(),\n",
    "    nn.BatchNorm2d(64),\n",
    "    nn.Dropout2d(0.25),\n",
    "    FlattenLayer()\n",
    ")\n",
    "\n",
    "test_input = torch.ones(1, 1, 28, 28)\n",
    "conv_output_size = conv_net(test_input).size()[-1]\n",
    "print(\"conv_output_size : \", conv_output_size)\n",
    "\n",
    "mlp = nn.Sequential(\n",
    "    nn.Linear(conv_output_size, 200),\n",
    "    nn.ReLU(),\n",
    "    nn.BatchNorm1d(200),\n",
    "    nn.Dropout(0.25),\n",
    "    nn.Linear(200, 10)\n",
    ")\n",
    "\n",
    "net = nn.Sequential(\n",
    "    conv_net,\n",
    "    mlp\n",
    ")"
   ]
  },
  {
   "cell_type": "code",
   "execution_count": 29,
   "metadata": {},
   "outputs": [],
   "source": [
    "from tqdm import tqdm\n",
    "\n",
    "def train_net(net, train_loader, test_loader, \n",
    "              optimizer,\n",
    "              loss_fn=nn.CrossEntropyLoss(),\n",
    "              n_iter = 10, device=\"cpu\"):\n",
    "    \n",
    "    if not torch.cuda.is_available():\n",
    "        deivce = \"cpu\"\n",
    "        \n",
    "    print(\"deivce : \", device)\n",
    "    net.to(device)\n",
    "    \n",
    "    # train\n",
    "    ttt = []\n",
    "    train_losses = []\n",
    "    train_acc = []\n",
    "    test_losses = []\n",
    "    test_acc = []\n",
    "    \n",
    "    for epoch in tqdm(range(n_iter)):\n",
    "        # train data set\n",
    "        net.train()\n",
    "        trn = 0\n",
    "        trn_loss = 0.0\n",
    "        trn_acc = 0.0\n",
    "        \n",
    "        for i , (xx, yy) in enumerate(train_loader):\n",
    "            trn += len(xx)\n",
    "            xx = xx.to(device)\n",
    "            yy = yy.to(device)\n",
    "\n",
    "            h = net(xx)\n",
    "            loss = loss_fn(h, yy)\n",
    "            \n",
    "            optimizer.zero_grad()\n",
    "            loss.backward()\n",
    "            optimizer.step()\n",
    "            \n",
    "            loss_item = loss.item()\n",
    "            ttt.append(loss_item)\n",
    "            trn_loss += loss_item\n",
    "            \n",
    "            _, y_pred =  h.max(1)\n",
    "            trn_acc += (yy == y_pred).float().sum().item()\n",
    "        \n",
    "        train_losses.append(trn_loss/i)\n",
    "        train_acc.append(trn_acc/trn)\n",
    "        \n",
    "\n",
    "        # test_data set\n",
    "        net.eval()\n",
    "        ten = 0\n",
    "        ten_loss = 0.0\n",
    "        ten_acc = 0.0\n",
    "                           \n",
    "        for i , (xx, yy) in enumerate(test_loader):\n",
    "            ten += len(xx)\n",
    "            xx = xx.to(device)\n",
    "            yy = yy.to(device)\n",
    "            \n",
    "            with torch.no_grad():            \n",
    "                h = net(xx)\n",
    "                loss = loss_fn(h, yy)\n",
    "\n",
    "            ten_loss += loss.item()\n",
    "                           \n",
    "            _, y_pred =  h.max(1)\n",
    "            ten_acc += (yy == y_pred).float().sum().item()\n",
    "\n",
    "        test_losses.append(ten_loss/i)\n",
    "        test_acc.append(ten_acc/ten)\n",
    "\n",
    "    return ttt, train_losses, train_acc, test_losses, test_acc"
   ]
  },
  {
   "cell_type": "code",
   "execution_count": 30,
   "metadata": {},
   "outputs": [
    {
     "name": "stderr",
     "output_type": "stream",
     "text": [
      "\r",
      "  0%|                                                                                            | 0/5 [00:00<?, ?it/s]"
     ]
    },
    {
     "name": "stdout",
     "output_type": "stream",
     "text": [
      "deivce :  cuda\n"
     ]
    },
    {
     "name": "stderr",
     "output_type": "stream",
     "text": [
      "100%|████████████████████████████████████████████████████████████████████████████████████| 5/5 [00:19<00:00,  3.95s/it]"
     ]
    },
    {
     "name": "stdout",
     "output_type": "stream",
     "text": [
      "losses   :  0.23012549715527034\n",
      "accuracy :  0.9801322751322751\n",
      "test losses   :  0.18473922833800316\n",
      "test accuracy :  0.985\n"
     ]
    },
    {
     "name": "stderr",
     "output_type": "stream",
     "text": [
      "\n"
     ]
    },
    {
     "data": {
      "image/png": "[encoded data removed]",
      "text/plain": [
       "<Figure size 432x288 with 1 Axes>"
      ]
     },
     "metadata": {
      "needs_background": "light"
     },
     "output_type": "display_data"
    }
   ],
   "source": [
    "    batch_size = 128\n",
    "    train_loader = DataLoader(train_set, batch_size = batch_size, shuffle = True)\n",
    "    test_loader = DataLoader(test_set, batch_size = batch_size, shuffle = True)\n",
    "    \n",
    "    lr = 1e-4\n",
    "    weight_decay = 0.1\n",
    "    optimizer = optim.Adam(net.parameters(), lr = lr, weight_decay = weight_decay)\n",
    "    \n",
    "    ttt, train_losses, train_acc, test_losses, test_acc = train_net(net, train_loader, test_loader, optimizer, n_iter = 5, device = 'cuda')\n",
    "    \n",
    "    print(\"losses   : \", train_losses[-1])\n",
    "    print(\"accuracy : \", train_acc[-1])\n",
    "\n",
    "    print(\"test losses   : \", test_losses[-1])\n",
    "    print(\"test accuracy : \", test_acc[-1])\n",
    "\n",
    "    plt.plot(list(range(len(ttt))), ttt)\n",
    "    plt.grid()\n",
    "    plt.show()"
   ]
  },
  {
   "cell_type": "code",
   "execution_count": 31,
   "metadata": {},
   "outputs": [
    {
     "data": {
      "image/png": "[encoded data removed]",
      "text/plain": [
       "<Figure size 432x288 with 1 Axes>"
      ]
     },
     "metadata": {
      "needs_background": "light"
     },
     "output_type": "display_data"
    }
   ],
   "source": [
    "plt.plot(list(range(5)), train_losses, list(range(5)), test_losses)\n",
    "plt.show()"
   ]
  },
  {
   "cell_type": "code",
   "execution_count": 46,
   "metadata": {},
   "outputs": [
    {
     "name": "stdout",
     "output_type": "stream",
     "text": [
      "   pixel0  pixel1  pixel2  pixel3  pixel4  pixel5  pixel6  pixel7  pixel8  \\\n",
      "0       0       0       0       0       0       0       0       0       0   \n",
      "1       0       0       0       0       0       0       0       0       0   \n",
      "2       0       0       0       0       0       0       0       0       0   \n",
      "3       0       0       0       0       0       0       0       0       0   \n",
      "4       0       0       0       0       0       0       0       0       0   \n",
      "\n",
      "   pixel9  ...  pixel774  pixel775  pixel776  pixel777  pixel778  pixel779  \\\n",
      "0       0  ...         0         0         0         0         0         0   \n",
      "1       0  ...         0         0         0         0         0         0   \n",
      "2       0  ...         0         0         0         0         0         0   \n",
      "3       0  ...         0         0         0         0         0         0   \n",
      "4       0  ...         0         0         0         0         0         0   \n",
      "\n",
      "   pixel780  pixel781  pixel782  pixel783  \n",
      "0         0         0         0         0  \n",
      "1         0         0         0         0  \n",
      "2         0         0         0         0  \n",
      "3         0         0         0         0  \n",
      "4         0         0         0         0  \n",
      "\n",
      "[5 rows x 784 columns]\n",
      "torch.Size([28000, 1, 28, 28])\n",
      "\n",
      "===============\n",
      " save submission file !\n"
     ]
    }
   ],
   "source": [
    "print(df_sb.head())\n",
    "np_X_sb = np.array(df_sb).reshape(-1, 1, 28, 28)\n",
    "sb_X = torch.tensor(np_X_sb, dtype = torch.float32)\n",
    "print(sb_X.shape)\n",
    "\n",
    "sb_set = TensorDataset(sb_X, torch.zeros(sb_X.shape[0], ))\n",
    "sb_loader = DataLoader(sb_set, batch_size = batch_size, shuffle = False)\n",
    "\n",
    "device = 'cuda'\n",
    "pred_list=[]\n",
    "acc = 0.0\n",
    "n = 0\n",
    "for i , (xx, yy) in enumerate(sb_loader):\n",
    "    n += len(xx)\n",
    "    xx = xx.to(device)\n",
    "    yy = yy.to(device)\n",
    "\n",
    "    with torch.no_grad():            \n",
    "        h = net(xx)\n",
    "\n",
    "    _, y_pred =  h.max(1)\n",
    "    pred_list.extend(y_pred.tolist())\n",
    "\n",
    "sb_string =\"ImageId,Label\" \n",
    "for i, p in enumerate(pred_list):\n",
    "    sb_string += \"\\n\"+str(i+1)+\",\"+str(p)\n",
    "\n",
    "with open('dr_submission.csv', 'w') as f:\n",
    "    f.write(sb_string)\n",
    "    \n",
    "print(\"\\n===============\\n save submission file !\")"
   ]
  }
 ],
 "metadata": {
  "kernelspec": {
   "display_name": "Python 3 (ipykernel)",
   "language": "python",
   "name": "python3"
  },
  "language_info": {
   "codemirror_mode": {
    "name": "ipython",
    "version": 3
   },
   "file_extension": ".py",
   "mimetype": "text/x-python",
   "name": "python",
   "nbconvert_exporter": "python",
   "pygments_lexer": "ipython3",
   "version": "3.7.1"
  }
 },
 "nbformat": 4,
 "nbformat_minor": 4
}
